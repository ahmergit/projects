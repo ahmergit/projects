{
  "nbformat": 4,
  "nbformat_minor": 0,
  "metadata": {
    "colab": {
      "provenance": [],
      "authorship_tag": "ABX9TyNxljM2YzYQ4F0Nl3aOZg/J",
      "include_colab_link": true
    },
    "kernelspec": {
      "name": "python3",
      "display_name": "Python 3"
    },
    "language_info": {
      "name": "python"
    }
  },
  "cells": [
    {
      "cell_type": "markdown",
      "metadata": {
        "id": "view-in-github",
        "colab_type": "text"
      },
      "source": [
        "<a href=\"https://colab.research.google.com/github/ahmergit/projects/blob/main/Prompt_Generater.ipynb\" target=\"_parent\"><img src=\"https://colab.research.google.com/assets/colab-badge.svg\" alt=\"Open In Colab\"/></a>"
      ]
    },
    {
      "cell_type": "code",
      "execution_count": 7,
      "metadata": {
        "id": "ZAYN7TKcuXG2"
      },
      "outputs": [],
      "source": [
        "%%capture --no-stderr\n",
        "%pip install --quiet langgraph -U langchain_google_genai\n"
      ]
    },
    {
      "cell_type": "code",
      "source": [
        "from google.colab import userdata\n",
        "GOOGLE_API_KEY = userdata.get('GOOGLE_API_KEY')"
      ],
      "metadata": {
        "id": "zljKY4S2u4Xm"
      },
      "execution_count": 2,
      "outputs": []
    },
    {
      "cell_type": "code",
      "source": [
        "from langchain_google_genai import ChatGoogleGenerativeAI"
      ],
      "metadata": {
        "id": "xIaOnD5HvLfy"
      },
      "execution_count": 8,
      "outputs": []
    },
    {
      "cell_type": "code",
      "source": [
        "llm: ChatGoogleGenerativeAI = ChatGoogleGenerativeAI(\n",
        "    model = \"gemini-1.5-flash\",\n",
        "    api_key= GOOGLE_API_KEY,\n",
        "    temperature=0.1,\n",
        ")"
      ],
      "metadata": {
        "id": "q-qLFIxKwXr1"
      },
      "execution_count": 17,
      "outputs": []
    },
    {
      "cell_type": "code",
      "source": [
        "llm.invoke(\"hi\")"
      ],
      "metadata": {
        "colab": {
          "base_uri": "https://localhost:8080/"
        },
        "id": "Qut1VFp8wu0X",
        "outputId": "5ef1613d-0427-4567-ed07-65d027d1edab"
      },
      "execution_count": 12,
      "outputs": [
        {
          "output_type": "execute_result",
          "data": {
            "text/plain": [
              "AIMessage(content='Hi there! How can I help you today?\\n', additional_kwargs={}, response_metadata={'prompt_feedback': {'block_reason': 0, 'safety_ratings': []}, 'finish_reason': 'STOP', 'safety_ratings': []}, id='run-4268684a-f782-49f0-b72e-b148bc2f8549-0', usage_metadata={'input_tokens': 2, 'output_tokens': 11, 'total_tokens': 13, 'input_token_details': {'cache_read': 0}})"
            ]
          },
          "metadata": {},
          "execution_count": 12
        }
      ]
    },
    {
      "cell_type": "code",
      "source": [
        "from typing import List\n",
        "from langchain_core.messages import SystemMessage\n",
        "from pydantic import BaseModel\n",
        "from langgraph.graph import StateGraph, START,END\n"
      ],
      "metadata": {
        "id": "TWqgiz24xAjo"
      },
      "execution_count": 21,
      "outputs": []
    },
    {
      "cell_type": "code",
      "source": [
        "template = \"\"\"Your job is to get information from a user about what type of prompt template they want to create.\n",
        "\n",
        "You should get the following information from them:\n",
        "\n",
        "- What the objective of the prompt is\n",
        "- What variables will be passed into the prompt template\n",
        "- Any constraints for what the output should NOT do\n",
        "- Any requirements that the output MUST adhere to\n",
        "\n",
        "If you are not able to discern this info, ask them to clarify! Do not attempt to wildly guess.\n",
        "\n",
        "After you are able to discern all the information, call the relevant tool.\"\"\""
      ],
      "metadata": {
        "id": "0OD2xA3WxMQf"
      },
      "execution_count": 14,
      "outputs": []
    },
    {
      "cell_type": "code",
      "source": [
        "from typing_extensions import TypedDict\n",
        "from langgraph.graph.message import add_messages\n",
        "from typing import Annotated\n",
        "\n",
        "class State(TypedDict):\n",
        "    messages: Annotated[list, add_messages]"
      ],
      "metadata": {
        "id": "ctUU2OozxxcE"
      },
      "execution_count": 15,
      "outputs": []
    },
    {
      "cell_type": "code",
      "source": [
        "def get_messages_info(messages):\n",
        "    return [SystemMessage(content=template)] + messages\n",
        "\n",
        "\n",
        "class PromptInstructions(BaseModel):\n",
        "    \"\"\"Instructions on how to prompt the LLM.\"\"\"\n",
        "\n",
        "    objective: str\n",
        "    variables: List[str]\n",
        "    constraints: List[str]\n",
        "    requirements: List[str]"
      ],
      "metadata": {
        "id": "BNg9jEjzyF1i"
      },
      "execution_count": 16,
      "outputs": []
    },
    {
      "cell_type": "code",
      "source": [
        "llm_with_tool = llm.bind_tools([PromptInstructions])"
      ],
      "metadata": {
        "id": "UidnI6YUyYBz"
      },
      "execution_count": 18,
      "outputs": []
    },
    {
      "cell_type": "code",
      "source": [
        "def info_chain(state):\n",
        "    messages = get_messages_info(state[\"messages\"])\n",
        "    response = llm_with_tool.invoke(messages)\n",
        "    return {\"messages\": [response]}"
      ],
      "metadata": {
        "id": "ppT7y3V40bA4"
      },
      "execution_count": 19,
      "outputs": []
    },
    {
      "cell_type": "code",
      "source": [
        "from langchain_core.messages import AIMessage, HumanMessage, ToolMessage\n",
        "\n",
        "# New system prompt\n",
        "prompt_system = \"\"\"Based on the following requirements, write a good prompt template:\n",
        "\n",
        "{reqs}\"\"\"\n",
        "\n",
        "\n",
        "# Function to get the messages for the prompt\n",
        "# Will only get messages AFTER the tool call\n",
        "def get_prompt_messages(messages: list):\n",
        "    tool_call = None\n",
        "    other_msgs = []\n",
        "    for m in messages:\n",
        "        if isinstance(m, AIMessage) and m.tool_calls:\n",
        "            tool_call = m.tool_calls[0][\"args\"]\n",
        "        elif isinstance(m, AIMessage) and not m.tool_calls :\n",
        "             other_msgs.append(m)\n",
        "        elif isinstance(m, HumanMessage): # Separate condition for HumanMessage\n",
        "            other_msgs.append(m)\n",
        "        elif isinstance(m, ToolMessage):\n",
        "            continue\n",
        "        elif tool_call is not None:\n",
        "            other_msgs.append(m)\n",
        "    return [SystemMessage(content=prompt_system.format(reqs=tool_call))] + other_msgs\n",
        "\n",
        "\n",
        "def prompt_gen_chain(state):\n",
        "    messages = get_prompt_messages(state[\"messages\"])\n",
        "    response = llm.invoke(messages)\n",
        "    return {\"messages\": [response]}"
      ],
      "metadata": {
        "id": "jq0NxaU-0fBK"
      },
      "execution_count": 33,
      "outputs": []
    },
    {
      "cell_type": "code",
      "source": [
        "from typing import Literal\n",
        "\n",
        "\n",
        "\n",
        "def get_state(state):\n",
        "    messages = state[\"messages\"]\n",
        "    if isinstance(messages[-1], AIMessage) and messages[-1].tool_calls:\n",
        "        return \"add_tool_message\"\n",
        "    elif not isinstance(messages[-1], HumanMessage):\n",
        "        return END\n",
        "    return \"info\""
      ],
      "metadata": {
        "id": "po15mrbh30rD"
      },
      "execution_count": 23,
      "outputs": []
    },
    {
      "cell_type": "code",
      "source": [
        "def add_tool_message(state: State):\n",
        "    return {\n",
        "        \"messages\": [\n",
        "            ToolMessage(\n",
        "                content=\"Prompt generated!\",\n",
        "                tool_call_id=state[\"messages\"][-1].tool_calls[0][\"id\"],\n",
        "            )\n",
        "        ]\n",
        "    }"
      ],
      "metadata": {
        "id": "IQSDvogb4k2J"
      },
      "execution_count": 24,
      "outputs": []
    },
    {
      "cell_type": "code",
      "source": [
        "from langgraph.checkpoint.memory import MemorySaver\n"
      ],
      "metadata": {
        "id": "pgHRS0-V4IFx"
      },
      "execution_count": 25,
      "outputs": []
    },
    {
      "cell_type": "code",
      "source": [
        "memory = MemorySaver()\n",
        "workflow = StateGraph(State)\n",
        "workflow.add_node(\"info\", info_chain)\n",
        "workflow.add_node(\"prompt\", prompt_gen_chain)\n",
        "workflow.add_node(\"add_tool_message\", add_tool_message)\n",
        "workflow.add_conditional_edges(\"info\", get_state, [\"add_tool_message\", END])\n",
        "workflow.add_edge(\"add_tool_message\", \"prompt\")\n",
        "workflow.add_edge(\"prompt\", END)\n",
        "workflow.add_edge(START, \"info\")\n",
        "graph = workflow.compile(checkpointer=memory)"
      ],
      "metadata": {
        "id": "XKkmPQ9S4qT7"
      },
      "execution_count": 31,
      "outputs": []
    },
    {
      "cell_type": "code",
      "source": [
        "from IPython.display import Image, display\n",
        "\n",
        "display(Image(graph.get_graph().draw_mermaid_png()))"
      ],
      "metadata": {
        "colab": {
          "base_uri": "https://localhost:8080/",
          "height": 449
        },
        "id": "0rd9Apdu5CXa",
        "outputId": "3295167f-8c6a-4e27-efd3-675e21d8a95e"
      },
      "execution_count": 28,
      "outputs": [
        {
          "output_type": "display_data",
          "data": {
            "image/png": "[encoded data removed]",
            "text/plain": [
              "<IPython.core.display.Image object>"
            ]
          },
          "metadata": {}
        }
      ]
    },
    {
      "cell_type": "code",
      "source": [
        "cached_human_responses = [\"hi!\", \"rag prompt\", \"1 rag, 2 none, 3 no, 4 no\", \"red\", \"q\"]\n",
        "cached_response_index = 0\n",
        "config = {\"configurable\": {\"thread_id\": 1}}\n",
        "while True:\n",
        "    try:\n",
        "        user = input(\"User (q/Q to quit): \")\n",
        "    except:\n",
        "        user = cached_human_responses[cached_response_index]\n",
        "        cached_response_index += 1\n",
        "    print(f\"User (q/Q to quit): {user}\")\n",
        "    if user in {\"q\", \"Q\"}:\n",
        "        print(\"AI: Byebye\")\n",
        "        break\n",
        "    output = None\n",
        "    for output in graph.stream(\n",
        "        {\"messages\": [HumanMessage(content=user)]}, config=config, stream_mode=\"updates\"\n",
        "    ):\n",
        "        last_message = next(iter(output.values()))[\"messages\"][-1]\n",
        "        last_message.pretty_print()\n",
        "\n",
        "    if output and \"prompt\" in output:\n",
        "        print(\"Done!\")"
      ],
      "metadata": {
        "colab": {
          "base_uri": "https://localhost:8080/"
        },
        "id": "KUoObOHH5DA5",
        "outputId": "520f9a5f-2cc3-445a-aeee-a30e61980164"
      },
      "execution_count": 34,
      "outputs": [
        {
          "output_type": "stream",
          "name": "stdout",
          "text": [
            "User (q/Q to quit): generate prompt for email compose. candidate name: Ahmer, company: ABC, Job_title : building ai_agent, skill: python and working to build ai agent using langgraph technology. Now Constraints: prompt should 300 words, using professional language, and i have good in communication skill,  i have good in full-stack developer using fastapi.\n",
            "User (q/Q to quit): generate prompt for email compose. candidate name: Ahmer, company: ABC, Job_title : building ai_agent, skill: python and working to build ai agent using langgraph technology. Now Constraints: prompt should 300 words, using professional language, and i have good in communication skill,  i have good in full-stack developer using fastapi.\n",
            "==================================\u001b[1m Ai Message \u001b[0m==================================\n",
            "\n",
            "Here's a prompt template designed to generate a job application email based on your specifications.  Remember to replace the bracketed placeholders with the actual values.\n",
            "\n",
            "```\n",
            "Write a professional email applying for the [job_title] position at [company_name].  The email should be under 300 words.  The applicant's name is Ahmer.\n",
            "\n",
            "The email should highlight the following skills and experience:\n",
            "\n",
            "* Proficiency in Python.\n",
            "* Experience in building AI agents, specifically using LangGraph technology.\n",
            "* Excellent communication skills.\n",
            "* Full-stack development experience using FastAPI.\n",
            "\n",
            "The email should include a brief introduction, highlight these skills in relation to the job description, and conclude with a call to action (e.g., requesting an interview).  Maintain a professional and formal tone throughout the email.\n",
            "```\n",
            "\n",
            "This prompt incorporates your constraints and requirements.  You can further refine it by adding more specific details about the job description or desired tone if needed.\n",
            "User (q/Q to quit): use professional language\n",
            "User (q/Q to quit): use professional language\n",
            "==================================\u001b[1m Ai Message \u001b[0m==================================\n",
            "\n",
            "Okay, I've already incorporated the requirement for professional language in the previous prompt.  The phrasing and instructions are designed to elicit a formal and professional tone in the generated email.  Is there anything else I can adjust or add to further ensure professionalism?  For example, should I specify avoiding slang, contractions, or certain types of phrasing?\n",
            "User (q/Q to quit): q\n",
            "User (q/Q to quit): q\n",
            "AI: Byebye\n"
          ]
        }
      ]
    }
  ]
}